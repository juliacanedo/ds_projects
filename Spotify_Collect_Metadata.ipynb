{
  "nbformat": 4,
  "nbformat_minor": 0,
  "metadata": {
    "colab": {
      "provenance": [],
      "collapsed_sections": [
        "rjUKb7nArMH0",
        "x8bf2dFK91xL",
        "wbpakXPVrqDR",
        "qdN7VLBOsxCB",
        "13AriebD-Ipa",
        "0ltxAh1Pt6sO"
      ]
    },
    "kernelspec": {
      "name": "python3",
      "display_name": "Python 3"
    },
    "language_info": {
      "name": "python"
    }
  },
  "cells": [
    {
      "cell_type": "markdown",
      "source": [
        "Hello! This is a code for extracting data from artists page on SPO in both album and track levels. Using spotipy, a Python library to buit requests on SPO API, set parameters to search for albums, singles, compilations and \"appears on\" and retrieve all the information about products available on artists pages using only the Spotify Artist ID - or a list of two or more SPO Artist IDs.\n",
        "\n",
        "Please note:\n",
        "- The limit for results is 50 products for each request"
      ],
      "metadata": {
        "id": "JH8kwOgVZHpm"
      }
    },
    {
      "cell_type": "markdown",
      "source": [
        "#1- Installing/importing libraries and inserting credentials to access SPO API"
      ],
      "metadata": {
        "id": "rjUKb7nArMH0"
      }
    },
    {
      "cell_type": "code",
      "execution_count": null,
      "metadata": {
        "colab": {
          "base_uri": "https://localhost:8080/"
        },
        "id": "5kREFotQVdpv",
        "outputId": "d2e704d4-4787-4048-8d01-bbeb98b743e5"
      },
      "outputs": [
        {
          "output_type": "stream",
          "name": "stdout",
          "text": [
            "Looking in indexes: https://pypi.org/simple, https://us-python.pkg.dev/colab-wheels/public/simple/\n",
            "Collecting spotipy\n",
            "  Downloading spotipy-2.20.0-py3-none-any.whl (27 kB)\n",
            "Collecting requests>=2.25.0\n",
            "  Downloading requests-2.28.1-py3-none-any.whl (62 kB)\n",
            "\u001b[K     |████████████████████████████████| 62 kB 1.6 MB/s \n",
            "\u001b[?25hRequirement already satisfied: six>=1.15.0 in /usr/local/lib/python3.7/dist-packages (from spotipy) (1.15.0)\n",
            "Collecting urllib3>=1.26.0\n",
            "  Downloading urllib3-1.26.12-py2.py3-none-any.whl (140 kB)\n",
            "\u001b[K     |████████████████████████████████| 140 kB 37.9 MB/s \n",
            "\u001b[?25hCollecting redis>=3.5.3\n",
            "  Downloading redis-4.3.4-py3-none-any.whl (246 kB)\n",
            "\u001b[K     |████████████████████████████████| 246 kB 36.7 MB/s \n",
            "\u001b[?25hRequirement already satisfied: async-timeout>=4.0.2 in /usr/local/lib/python3.7/dist-packages (from redis>=3.5.3->spotipy) (4.0.2)\n",
            "Requirement already satisfied: importlib-metadata>=1.0 in /usr/local/lib/python3.7/dist-packages (from redis>=3.5.3->spotipy) (4.12.0)\n",
            "Collecting deprecated>=1.2.3\n",
            "  Downloading Deprecated-1.2.13-py2.py3-none-any.whl (9.6 kB)\n",
            "Requirement already satisfied: typing-extensions in /usr/local/lib/python3.7/dist-packages (from redis>=3.5.3->spotipy) (4.1.1)\n",
            "Requirement already satisfied: packaging>=20.4 in /usr/local/lib/python3.7/dist-packages (from redis>=3.5.3->spotipy) (21.3)\n",
            "Requirement already satisfied: wrapt<2,>=1.10 in /usr/local/lib/python3.7/dist-packages (from deprecated>=1.2.3->redis>=3.5.3->spotipy) (1.14.1)\n",
            "Requirement already satisfied: zipp>=0.5 in /usr/local/lib/python3.7/dist-packages (from importlib-metadata>=1.0->redis>=3.5.3->spotipy) (3.8.1)\n",
            "Requirement already satisfied: pyparsing!=3.0.5,>=2.0.2 in /usr/local/lib/python3.7/dist-packages (from packaging>=20.4->redis>=3.5.3->spotipy) (3.0.9)\n",
            "Requirement already satisfied: certifi>=2017.4.17 in /usr/local/lib/python3.7/dist-packages (from requests>=2.25.0->spotipy) (2022.6.15)\n",
            "Requirement already satisfied: idna<4,>=2.5 in /usr/local/lib/python3.7/dist-packages (from requests>=2.25.0->spotipy) (2.10)\n",
            "Requirement already satisfied: charset-normalizer<3,>=2 in /usr/local/lib/python3.7/dist-packages (from requests>=2.25.0->spotipy) (2.1.1)\n",
            "Installing collected packages: urllib3, deprecated, requests, redis, spotipy\n",
            "  Attempting uninstall: urllib3\n",
            "    Found existing installation: urllib3 1.24.3\n",
            "    Uninstalling urllib3-1.24.3:\n",
            "      Successfully uninstalled urllib3-1.24.3\n",
            "  Attempting uninstall: requests\n",
            "    Found existing installation: requests 2.23.0\n",
            "    Uninstalling requests-2.23.0:\n",
            "      Successfully uninstalled requests-2.23.0\n",
            "Successfully installed deprecated-1.2.13 redis-4.3.4 requests-2.28.1 spotipy-2.20.0 urllib3-1.26.12\n"
          ]
        }
      ],
      "source": [
        "# installing spotipy\n",
        "!pip install spotipy"
      ]
    },
    {
      "cell_type": "code",
      "source": [
        "# import libraries\n",
        "import spotipy\n",
        "import spotipy.util as util\n",
        "from spotipy.oauth2 import SpotifyClientCredentials\n",
        "import requests\n",
        "from time import sleep\n",
        "import pandas as pd"
      ],
      "metadata": {
        "id": "_0ykv14gVsGK"
      },
      "execution_count": null,
      "outputs": []
    },
    {
      "cell_type": "code",
      "source": [
        "#inserting credentials from SPO API\n",
        "\n",
        "client_id= \"YOUR_CLIENT_ID\"\n",
        "client_secret= \"YOUR_CLIENT_SECRET\"\n",
        "\n",
        "AUTH_URL = 'https://accounts.spotify.com/api/token'\n",
        "\n",
        "# POST\n",
        "auth_response = requests.post(AUTH_URL, {\n",
        "    'grant_type': 'client_credentials',\n",
        "    'client_id': client_id,\n",
        "    'client_secret': client_secret,\n",
        "})\n",
        "\n",
        "# convert the response to JSON\n",
        "auth_response_data = auth_response.json()\n",
        "\n",
        "# save the access token\n",
        "access_token = auth_response_data['access_token']"
      ],
      "metadata": {
        "id": "Mp-bRo2dVxaA"
      },
      "execution_count": null,
      "outputs": []
    },
    {
      "cell_type": "code",
      "source": [
        "client_credentials_manager = SpotifyClientCredentials(client_id=client_id, client_secret=client_secret)\n",
        "sp = spotipy.Spotify(client_credentials_manager=client_credentials_manager)"
      ],
      "metadata": {
        "id": "i0Xlsplo4Lig"
      },
      "execution_count": null,
      "outputs": []
    },
    {
      "cell_type": "markdown",
      "source": [
        "# 2 - Code to extract the products from one or more artist page"
      ],
      "metadata": {
        "id": "x8bf2dFK91xL"
      }
    },
    {
      "cell_type": "markdown",
      "source": [
        "##2.1 - Inserting the SPO artists ids"
      ],
      "metadata": {
        "id": "uEAXFBVDrfUW"
      }
    },
    {
      "cell_type": "code",
      "source": [
        "artist_id = ['7MiDcPa6UiV3In7lIM71IN','3qvcCP2J0fWi0m0uQDUf6r'] #SPO Artist ID between '' and separated by ,"
      ],
      "metadata": {
        "id": "KmW_bKeyO1uP"
      },
      "execution_count": null,
      "outputs": []
    },
    {
      "cell_type": "markdown",
      "source": [
        "##2.2 -Functions to extract data from SPO artist(s) page"
      ],
      "metadata": {
        "id": "wbpakXPVrqDR"
      }
    },
    {
      "cell_type": "code",
      "source": [
        "## this function retrieve a dictionary with all albums from artist(s) inserted on artist_id list\n",
        "\n",
        "def getArtistAlbum(artist_id):\n",
        "\n",
        "  result_album = sp.artist_albums(artist_id,album_type=['album'], limit=50)\n",
        "  artist_album = result_album['items']\n",
        "  artist_name = []\n",
        "  artist_id = []\n",
        "  album_id = []\n",
        "  album_title = []\n",
        "  release_date = []\n",
        "  total_tracks = []\n",
        "  album_type = []\n",
        "\n",
        "  for album in artist_album:\n",
        "    artist_name.append(album['artists'][0]['name'])\n",
        "    artist_id.append(album['artists'][0]['id'])\n",
        "    album_id.append(album['id'])\n",
        "    album_title.append(album['name'])\n",
        "    release_date.append(album['release_date'])\n",
        "    total_tracks.append(album['total_tracks'])\n",
        "    album_type.append (album['album_group'])\n",
        "\n",
        "    a = {'artist_name':artist_name, 'artist_id':artist_id, 'album_id':album_id,\n",
        "         'album_title':album_title, 'release_date':release_date, 'total_tracks':total_tracks,\n",
        "         'type':album_type}\n",
        "\n",
        "  return a"
      ],
      "metadata": {
        "id": "HY-nBXdXKuA2"
      },
      "execution_count": null,
      "outputs": []
    },
    {
      "cell_type": "code",
      "source": [
        "## this function retrieve a dictionary with all singles from artist(s) inserted on artist_id list\n",
        "##OBS please note that EPs are retrieved as singles\n",
        "\n",
        "def getArtistSingle(artist_id):\n",
        "\n",
        "  result_album = sp.artist_albums(artist_id,album_type=['single'], limit=50)\n",
        "  artist_album = result_album['items']\n",
        "  artist_name = []\n",
        "  artist_id = []\n",
        "  album_id = []\n",
        "  album_title = []\n",
        "  release_date = []\n",
        "  total_tracks = []\n",
        "  album_type = []\n",
        "\n",
        "  for album in artist_album:\n",
        "    artist_name.append(album['artists'][0]['name'])\n",
        "    artist_id.append(album['artists'][0]['id'])\n",
        "    album_id.append(album['id'])\n",
        "    album_title.append(album['name'])\n",
        "    release_date.append(album['release_date'])\n",
        "    total_tracks.append(album['total_tracks'])\n",
        "    album_type.append (album['album_group'])\n",
        "\n",
        "    a = {'artist_name':artist_name, 'artist_id':artist_id, 'album_id':album_id,\n",
        "         'album_title':album_title, 'release_date':release_date, 'total_tracks':total_tracks,\n",
        "         'type':album_type}\n",
        "\n",
        "  return a"
      ],
      "metadata": {
        "id": "V4tb5vxZ6Zty"
      },
      "execution_count": null,
      "outputs": []
    },
    {
      "cell_type": "code",
      "source": [
        "## this function retrieve a dictionary with all compilations from artist(s) inserted on artist_id list\n",
        "\n",
        "def getArtistCompilation(artist_id):\n",
        "\n",
        "  result_album = sp.artist_albums(artist_id,album_type=['compilation'], limit=50)\n",
        "  artist_album = result_album['items']\n",
        "  artist_name = []\n",
        "  artist_id = []\n",
        "  album_id = []\n",
        "  album_title = []\n",
        "  release_date = []\n",
        "  total_tracks = []\n",
        "  album_type = []\n",
        "\n",
        "  for album in artist_album:\n",
        "    artist_name.append(album['artists'][0]['name'])\n",
        "    artist_id.append(album['artists'][0]['id'])\n",
        "    album_id.append(album['id'])\n",
        "    album_title.append(album['name'])\n",
        "    release_date.append(album['release_date'])\n",
        "    total_tracks.append(album['total_tracks'])\n",
        "    album_type.append (album['album_group'])\n",
        "\n",
        "    a = {'artist_name':artist_name, 'artist_id':artist_id, 'album_id':album_id,\n",
        "         'album_title':album_title, 'release_date':release_date, 'total_tracks':total_tracks,\n",
        "         'type':album_type}\n",
        "\n",
        "    return a"
      ],
      "metadata": {
        "id": "UbVY6q-q6c8Q"
      },
      "execution_count": null,
      "outputs": []
    },
    {
      "cell_type": "code",
      "source": [
        "## this function retrieve a dictionary with all products in \"Appears On\" section from artist(s) inserted on artist_id list\n",
        "\n",
        "def getArtistAppearsOn(artist_id):\n",
        "\n",
        "  result_album = sp.artist_albums(artist_id,album_type=['appears_on'], limit=50)\n",
        "  artist_album = result_album['items']\n",
        "  artist_name = []\n",
        "  artist_id = []\n",
        "  album_id = []\n",
        "  album_title = []\n",
        "  release_date = []\n",
        "  total_tracks = []\n",
        "  album_type = []\n",
        "\n",
        "  for album in artist_album:\n",
        "    artist_name.append(album['artists'][0]['name'])\n",
        "    artist_id.append(album['artists'][0]['id'])\n",
        "    album_id.append(album['id'])\n",
        "    album_title.append(album['name'])\n",
        "    release_date.append(album['release_date'])\n",
        "    total_tracks.append(album['total_tracks'])\n",
        "    album_type.append (album['album_group'])\n",
        "\n",
        "    a = {'artist_name':artist_name, 'artist_id':artist_id, 'album_id':album_id,\n",
        "         'album_title':album_title, 'release_date':release_date, 'total_tracks':total_tracks,\n",
        "         'type':album_type}\n",
        "\n",
        "  return a"
      ],
      "metadata": {
        "id": "GqUAUQkG6f7L"
      },
      "execution_count": null,
      "outputs": []
    },
    {
      "cell_type": "markdown",
      "source": [
        "##2.3 - These loops creates a list with informations of artists products for each type of product.\n",
        "###Run the cell with the type of product you want to retrieve"
      ],
      "metadata": {
        "id": "eU-OxzucjNfg"
      }
    },
    {
      "cell_type": "code",
      "source": [
        "artists_albums = [] #list of albums\n",
        "\n",
        "#getting albums\n",
        "for artist in artist_id: #for each artist listed in artist_id list\n",
        "  sleep(.10)\n",
        "  data_album = getArtistAlbum(artist)\n",
        "  artists_albums.append(data_album)"
      ],
      "metadata": {
        "id": "2vjiXUlKjYIU"
      },
      "execution_count": null,
      "outputs": []
    },
    {
      "cell_type": "code",
      "source": [
        "artists_singles = [] #list of singles\n",
        "\n",
        "#getting singles/eps\n",
        "for artist in artist_id: #for each artist listed in artist_id list\n",
        "  sleep(.10)\n",
        "  data_single = getArtistSingle(artist)\n",
        "  artists_singles.append(data_single)"
      ],
      "metadata": {
        "id": "KlC9_hqjjaKA"
      },
      "execution_count": null,
      "outputs": []
    },
    {
      "cell_type": "code",
      "source": [
        "artists_compilations = [] #list of compilations\n",
        "\n",
        "#getting compilations\n",
        "for artist in artist_id: #for each artist listed in artist_id list\n",
        "  sleep(.10)\n",
        "  data_compilation = getArtistCompilation(artist)\n",
        "  if data_compilation == None:\n",
        "    pass\n",
        "  else:\n",
        "    artists_compilations.append(data_compilation)"
      ],
      "metadata": {
        "id": "AU1jeuE_jcIq"
      },
      "execution_count": null,
      "outputs": []
    },
    {
      "cell_type": "code",
      "source": [
        "artists_appearson = [] #list of appears on\n",
        "\n",
        "#getting appears on\n",
        "for artist in artist_id: #for each artist listed in artist_id list\n",
        "  sleep(.10)\n",
        "  data_appearson = getArtistAppearsOn(artist)\n",
        "  artists_appearson.append(data_appearson)"
      ],
      "metadata": {
        "id": "Ot59V7sfjd8S"
      },
      "execution_count": null,
      "outputs": []
    },
    {
      "cell_type": "markdown",
      "source": [
        "##2.4 - Set the list of infos and exporting with respective file names\n",
        "\n",
        "### for example:\n",
        "\n",
        "*    if you run the search for albums, insert artists_albums on list_of_dicts and \"artists_album\" on list_of_titles_dicts.\n",
        "*   if you run the search for albums and singles, insert **artists_albums, artists_singles** on list_of_dicts and **\"artists_album\",\"artists_singles\"** on list_of titles_dicts\n",
        "\n",
        "\n"
      ],
      "metadata": {
        "id": "E_cn9KmTj2KC"
      }
    },
    {
      "cell_type": "markdown",
      "source": [
        "###2.4.1 - Setting the lists"
      ],
      "metadata": {
        "id": "XaJZuH40k1Ub"
      }
    },
    {
      "cell_type": "code",
      "source": [
        "#setting the lists\n",
        "\n",
        "list_of_dicts = [artists_albums,artists_singles]\n",
        "list_of_titles_dicts = ['artists_albums','artists_singles']"
      ],
      "metadata": {
        "id": "73ORc5kommu6"
      },
      "execution_count": null,
      "outputs": []
    },
    {
      "cell_type": "markdown",
      "source": [
        "###2.4.2 - Exporting one file for each type of product setted above on the lists"
      ],
      "metadata": {
        "id": "vQSJ07Knk9rw"
      }
    },
    {
      "cell_type": "code",
      "source": [
        "# this funcion export one xlsx file for each dictionary inserted on list_of_dicts\n",
        "# with respective names inserted on list_of_titles_dicts\n",
        "\n",
        "def exportProductsSeparately(list_of_dicts, list_of_titles_dicts):\n",
        "\n",
        "  for d, t in zip(list_of_dicts, list_of_titles_dicts):\n",
        "    df = pd.DataFrame.from_dict(d).apply(pd.Series.explode)\n",
        "    df.to_excel(t+'.xlsx',index=False,encoding='utf-8')"
      ],
      "metadata": {
        "id": "EfHvDKDtaqto"
      },
      "execution_count": null,
      "outputs": []
    },
    {
      "cell_type": "code",
      "source": [
        "## running the export separately function\n",
        "exportProductsSeparately(list_of_dicts,list_of_titles_dicts)"
      ],
      "metadata": {
        "id": "bDgCELoClow5"
      },
      "execution_count": null,
      "outputs": []
    },
    {
      "cell_type": "markdown",
      "source": [
        "###2.4.3 - Generating the dataframe and exporting the selected type of products in one single file"
      ],
      "metadata": {
        "id": "li-VWWbklB4C"
      }
    },
    {
      "cell_type": "markdown",
      "source": [
        "####creating dataframe"
      ],
      "metadata": {
        "id": "RuzZX6CIlV9Q"
      }
    },
    {
      "cell_type": "code",
      "source": [
        "#this function retrieve a dataframe with all products retrieved inserted above on \"setting the lists\" section\n",
        "#defaul name of file: Artists_Products_SPO\n",
        "\n",
        "def exportAllProducts(list_of_dicts):\n",
        "  list_of_df = []\n",
        "\n",
        "  for df in list_of_dicts:\n",
        "    newdf = pd.DataFrame.from_dict(df).apply(pd.Series.explode)\n",
        "    list_of_df.append(newdf)\n",
        "    df_artists_allproducts = pd.concat(list_of_df)\n",
        "    df_artists_allproducts.to_excel(#file name:\n",
        "                                    'Artists_Products_SPO.xlsx',\n",
        "                                    index=False,\n",
        "                                    encoding='utf-8')"
      ],
      "metadata": {
        "id": "5w5oLz_7W5UN"
      },
      "execution_count": null,
      "outputs": []
    },
    {
      "cell_type": "markdown",
      "source": [
        "####exporting the excel file (named as Artists_Products_SPO)"
      ],
      "metadata": {
        "id": "nW-NRWNSsk1T"
      }
    },
    {
      "cell_type": "code",
      "source": [
        "## running the export all products function\n",
        "exportAllProducts(list_of_dicts)"
      ],
      "metadata": {
        "id": "wc6i8uJ87aiu"
      },
      "execution_count": null,
      "outputs": []
    },
    {
      "cell_type": "markdown",
      "source": [
        "#3 - Searching all types of products at once and retrieving a single excel file with the informations\n",
        "\n",
        "#### The exported file name is Artists_AllProducts_SPO"
      ],
      "metadata": {
        "id": "qdN7VLBOsxCB"
      }
    },
    {
      "cell_type": "code",
      "source": [
        "# this function retrieves all types of products (albums, singles/EPs, compilation, appears on)\n",
        "# from artist(s) inserted on artist_id list at once\n",
        "# and generate a compilated Excel file (xlsx)\n",
        "# default file name: Artists_AllProducts_SPO\n",
        "\n",
        "def getAllProducts(artist_id):\n",
        "\n",
        "  artists_albums = []\n",
        "  artists_singles = []\n",
        "  artists_compilations = []\n",
        "  artists_appearson = []\n",
        "\n",
        "  for artist in artist_id:\n",
        "    sleep(.10)\n",
        "\n",
        "    data_album = getArtistAlbum(artist) #getting albums\n",
        "    if data_album == None:\n",
        "      pass\n",
        "    else:\n",
        "      artists_albums.append(data_album)\n",
        "\n",
        "    data_single = getArtistSingle(artist) #getting singles/EPs\n",
        "    if data_single == None:\n",
        "      pass\n",
        "    else:\n",
        "      artists_singles.append(data_single)\n",
        "\n",
        "    data_compilation = getArtistCompilation(artist) #getting compilations\n",
        "    if data_compilation == None:\n",
        "      pass\n",
        "    else:\n",
        "      artists_compilations.append(data_compilation)\n",
        "\n",
        "    data_appearson = getArtistAppearsOn(artist) #getting appears on\n",
        "    if data_appearson == None:\n",
        "      pass\n",
        "    else:\n",
        "      artists_appearson.append(data_appearson)\n",
        "\n",
        "  list_of_dicts = [artists_albums, artists_singles, artists_compilations, artists_appearson]\n",
        "  list_of_titles_dicts = ['artists_albums','artists_singles','artists_compilations','artists_appearson']\n",
        "  list_of_df = []\n",
        "\n",
        "  for df in list_of_dicts:\n",
        "    newdf = pd.DataFrame.from_dict(df).apply(pd.Series.explode)\n",
        "    list_of_df.append(newdf)\n",
        "    df_all_products = pd.concat(list_of_df)\n",
        "\n",
        "    df_all_products.to_excel(#filename:\n",
        "                             'Artists_AllProducts_SPO.xlsx',index=False,encoding='utf-8')"
      ],
      "metadata": {
        "id": "lg--8OEplwZM"
      },
      "execution_count": null,
      "outputs": []
    },
    {
      "cell_type": "markdown",
      "source": [
        "##3.1 Generating excel file"
      ],
      "metadata": {
        "id": "vEbeFd17tXxG"
      }
    },
    {
      "cell_type": "code",
      "source": [
        "# Generate compilated excel with all products using list of artist_id\n",
        "getAllProducts(artist_id)"
      ],
      "metadata": {
        "id": "7w0Jnyq3e29q"
      },
      "execution_count": null,
      "outputs": []
    },
    {
      "cell_type": "markdown",
      "source": [
        "#4 - Retrieving tracks data from products available on artists page\n",
        "###Here you can import the SPO album ids from a csv or xslx file or manually insert the SPO album ID(s)\n",
        "\n"
      ],
      "metadata": {
        "id": "13AriebD-Ipa"
      }
    },
    {
      "cell_type": "markdown",
      "source": [
        "##4.1 - Reading from excel or csv\n",
        "###if you want to insert it manually, goes to 4.2"
      ],
      "metadata": {
        "id": "0ltxAh1Pt6sO"
      }
    },
    {
      "cell_type": "code",
      "source": [
        "# reading xlsx file\n",
        "# using the artists_albums as example\n",
        "# use pd.read_csv for csv files\n",
        "\n",
        "df = pd.read_excel(#name of file imported:\n",
        "                   'artists_albums.xlsx',index_col=0)\n",
        "\n",
        "album_ids = list(df['album_id'])"
      ],
      "metadata": {
        "id": "nyq0R4x6pFq5"
      },
      "execution_count": null,
      "outputs": []
    },
    {
      "cell_type": "markdown",
      "source": [
        "##4.2 - Inserting manually"
      ],
      "metadata": {
        "id": "utEBUpH2uJiQ"
      }
    },
    {
      "cell_type": "code",
      "source": [
        "#insert manually\n",
        "album_ids = ['3UdCTJxopQVSG5wRdMPKZS']"
      ],
      "metadata": {
        "id": "0Q4ATcTcp1Cw"
      },
      "execution_count": null,
      "outputs": []
    },
    {
      "cell_type": "markdown",
      "source": [
        "##4.3 - Functions to retrieve album/tracks information\n"
      ],
      "metadata": {
        "id": "wZOFCnObqsIv"
      }
    },
    {
      "cell_type": "markdown",
      "source": [
        "### This function retrieve the follow album informations: cover link, album id, album title and label"
      ],
      "metadata": {
        "id": "izCiJ05ruWaM"
      }
    },
    {
      "cell_type": "code",
      "source": [
        "def getAlbumInfo(id):\n",
        "\n",
        "  album = sp.album(id)\n",
        "  cover_link = []\n",
        "  album_id = []\n",
        "  name = []\n",
        "  label = []\n",
        "\n",
        "  for item in album:\n",
        "    try:\n",
        "      album_label = album['copyrights'][0].get('text')\n",
        "    except:\n",
        "      album_label = 'NotFound'\n",
        "    cover = album['images'][0]['url']\n",
        "    cover_link.append(cover)\n",
        "    name.append(album['name'])\n",
        "    album_id.append(album['id'])\n",
        "    label.append(album_label)\n",
        "\n",
        "    album_info = {'cover_link':cover_link, 'album_id': album_id,'album_title': name,'label':label}\n",
        "\n",
        "  return album_info"
      ],
      "metadata": {
        "id": "XC19hH_ySPgN"
      },
      "execution_count": null,
      "outputs": []
    },
    {
      "cell_type": "markdown",
      "source": [
        "###This function retrieve the follow informations about the tracks in the albums inserted on album_id list: SPO ID, ISRC and track Title"
      ],
      "metadata": {
        "id": "VhnUyCFYqx2J"
      }
    },
    {
      "cell_type": "code",
      "source": [
        "def getAlbumTracks(album_id):\n",
        "\n",
        "  track_id = []\n",
        "  track_isrc = []\n",
        "  track_title = []\n",
        "\n",
        "  result = sp.album_tracks(album_id)\n",
        "\n",
        "  for track in range(len(result['items'])):\n",
        "    id_track = result['items'][track]['id']\n",
        "    track_id.append(id_track)\n",
        "    track_search = sp.track(id_track)\n",
        "    track_title.append(track_search['name'])\n",
        "    isrc = track_search.get('external_ids')['isrc']\n",
        "    track_isrc.append(isrc)\n",
        "\n",
        "  track_data = {'track_id':track_id, 'track_title': track_title,'isrc':track_isrc}\n",
        "\n",
        "  return track_data"
      ],
      "metadata": {
        "id": "Hjot317m8vak"
      },
      "execution_count": null,
      "outputs": []
    },
    {
      "cell_type": "markdown",
      "source": [
        "##4.4 -  Running the functions and generating excel files"
      ],
      "metadata": {
        "id": "68IZq0prq2BO"
      }
    },
    {
      "cell_type": "markdown",
      "source": [
        "### Running the functions to generate both album and its tracks info\n"
      ],
      "metadata": {
        "id": "79m2I7w0ue4J"
      }
    },
    {
      "cell_type": "code",
      "source": [
        "#running the functions to generate both album and its tracks info\n",
        "\n",
        "data_track = []\n",
        "data_album = []\n",
        "\n",
        "for x in album_ids:\n",
        "  sleep(.10)\n",
        "  track_info = getAlbumTracks(x)\n",
        "  album_info = getAlbumInfo(x)\n",
        "  data_track.append(track_info)\n",
        "  data_album.append(album_info)"
      ],
      "metadata": {
        "id": "zE6Vgarnq2IF"
      },
      "execution_count": null,
      "outputs": []
    },
    {
      "cell_type": "markdown",
      "source": [
        "###Export in separated excel files\n"
      ],
      "metadata": {
        "id": "JwUOmfYUuhVo"
      }
    },
    {
      "cell_type": "code",
      "source": [
        "#export in separated excel files\n",
        "list_of_album_data = [data_track, data_album]\n",
        "list_of_album_title = ['data_track','data_album']\n",
        "\n",
        "exportProductsSeparately(list_of_album_data,list_of_album_title)"
      ],
      "metadata": {
        "id": "ECaQ3wyUj4yw"
      },
      "execution_count": null,
      "outputs": []
    }
  ]
}